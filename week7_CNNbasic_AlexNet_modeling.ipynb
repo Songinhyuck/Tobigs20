{
  "cells": [
    {
      "cell_type": "markdown",
      "metadata": {
        "id": "view-in-github",
        "colab_type": "text"
      },
      "source": [
        "<a href=\"https://colab.research.google.com/github/Songinhyuck/Tobigs20/blob/main/week7_CNNbasic_AlexNet_modeling.ipynb\" target=\"_parent\"><img src=\"https://colab.research.google.com/assets/colab-badge.svg\" alt=\"Open In Colab\"/></a>"
      ]
    },
    {
      "cell_type": "markdown",
      "metadata": {
        "id": "N1DbkY70-hcB"
      },
      "source": [
        "# CNNbasic Assignment#2\n",
        "\n",
        "# AlexNet 구현\n",
        "\n",
        "모델 구현 후 summary로 전체 모델 구조 출력과 주석으로 간단한 설명을 달아주시면 됩니다.\n",
        "\n",
        "프레임워크는 자유이고, 기본 tensforflow와 pytorch tutorial 사이트를 아래에 첨부해 드립니다.\n",
        "\n",
        "이 외 각 프레임워크 별 summary 등 추가적인 사용 방법은 구글링으로 찾아주세요!-!\n",
        "\n",
        "- Tensorflow Tutorial: https://www.tensorflow.org/tutorials?hl=ko\n",
        "\n",
        "- Pytorch Tutorial: https://tutorials.pytorch.kr/\n",
        "\n",
        "![image-2.png](attachment:image-2.png)"
      ]
    },
    {
      "cell_type": "markdown",
      "metadata": {
        "id": "0yGHLrFU8JkW"
      },
      "source": [
        "## Tensorflow(keras)"
      ]
    },
    {
      "cell_type": "code",
      "execution_count": null,
      "metadata": {
        "colab": {
          "base_uri": "https://localhost:8080/"
        },
        "id": "68kj2zUP80f0",
        "outputId": "4253eaa6-3e0d-4733-c570-d3c205435d1f"
      },
      "outputs": [
        {
          "output_type": "stream",
          "name": "stdout",
          "text": [
            "Model: \"sequential_2\"\n",
            "_________________________________________________________________\n",
            " Layer (type)                Output Shape              Param #   \n",
            "=================================================================\n",
            " conv2d_10 (Conv2D)          (None, 54, 54, 96)        34944     \n",
            "                                                                 \n",
            " max_pooling2d_6 (MaxPooling  (None, 26, 26, 96)       0         \n",
            " 2D)                                                             \n",
            "                                                                 \n",
            " batch_normalization_4 (Batc  (None, 26, 26, 96)       384       \n",
            " hNormalization)                                                 \n",
            "                                                                 \n",
            " conv2d_11 (Conv2D)          (None, 22, 22, 256)       614656    \n",
            "                                                                 \n",
            " max_pooling2d_7 (MaxPooling  (None, 10, 10, 256)      0         \n",
            " 2D)                                                             \n",
            "                                                                 \n",
            " batch_normalization_5 (Batc  (None, 10, 10, 256)      1024      \n",
            " hNormalization)                                                 \n",
            "                                                                 \n",
            " conv2d_12 (Conv2D)          (None, 8, 8, 384)         885120    \n",
            "                                                                 \n",
            " conv2d_13 (Conv2D)          (None, 6, 6, 384)         1327488   \n",
            "                                                                 \n",
            " conv2d_14 (Conv2D)          (None, 4, 4, 256)         884992    \n",
            "                                                                 \n",
            " max_pooling2d_8 (MaxPooling  (None, 1, 1, 256)        0         \n",
            " 2D)                                                             \n",
            "                                                                 \n",
            " flatten_2 (Flatten)         (None, 256)               0         \n",
            "                                                                 \n",
            " dense_6 (Dense)             (None, 4096)              1052672   \n",
            "                                                                 \n",
            " dropout_4 (Dropout)         (None, 4096)              0         \n",
            "                                                                 \n",
            " dense_7 (Dense)             (None, 4096)              16781312  \n",
            "                                                                 \n",
            " dropout_5 (Dropout)         (None, 4096)              0         \n",
            "                                                                 \n",
            " dense_8 (Dense)             (None, 1000)              4097000   \n",
            "                                                                 \n",
            "=================================================================\n",
            "Total params: 25,679,592\n",
            "Trainable params: 25,678,888\n",
            "Non-trainable params: 704\n",
            "_________________________________________________________________\n"
          ]
        }
      ],
      "source": [
        "from tensorflow.keras.layers import Conv2D, MaxPooling2D,Flatten,Dense,BatchNormalization,Dropout\n",
        "from tensorflow.keras.models import Sequential\n",
        "\n",
        "\n",
        "n_classes = 1000 # class 개수\n",
        "\n",
        "model=Sequential()\n",
        "\n",
        "############## Add Layer ##############\n",
        "\n",
        "model.add(Conv2D(96,(11,11), strides = 4, activation = 'relu', input_shape=(224,224,3)))\n",
        "model.add(MaxPooling2D(pool_size = (3,3), strides = (2,2)))\n",
        "model.add(BatchNormalization())\n",
        "\n",
        "model.add(Conv2D(256,(5,5),activation='relu'))\n",
        "model.add(MaxPooling2D(pool_size=(3,3),strides=(2,2)))\n",
        "model.add(BatchNormalization())\n",
        "\n",
        "model.add(Conv2D(384,(3,3),activation='relu'))\n",
        "\n",
        "model.add(Conv2D(384,(3,3),activation='relu'))\n",
        "\n",
        "model.add(Conv2D(256,(3,3),activation='relu'))\n",
        "model.add(MaxPooling2D(pool_size=(3,3),strides=(2,2)))\n",
        "\n",
        "model.add(Flatten())\n",
        "model.add(Dense(4096,activation='relu'))\n",
        "model.add(Dropout(0.5))\n",
        "\n",
        "model.add(Dense(4096,activation='relu'))\n",
        "model.add(Dropout(0.5))\n",
        "\n",
        "model.add(Dense(1000,activation='softmax'))\n",
        "\n",
        "model.compile(optimizer='adam',loss='categorical_crossentropy',metrics=['accuracy'])\n",
        "\n",
        "\n",
        "#######################################\n",
        "\n",
        "# keras summary\n",
        "model.summary() # summary code 추가"
      ]
    },
    {
      "cell_type": "markdown",
      "metadata": {
        "id": "urleB2cT-c0i"
      },
      "source": [
        "## Pytorch"
      ]
    },
    {
      "cell_type": "code",
      "execution_count": null,
      "metadata": {
        "colab": {
          "base_uri": "https://localhost:8080/",
          "height": 562
        },
        "id": "rPXCVbu799Rq",
        "outputId": "27ddcae3-675a-4496-b497-3cd5003114a0",
        "scrolled": false
      },
      "outputs": [
        {
          "name": "stdout",
          "output_type": "stream",
          "text": [
            "----------------------------------------------------------------\n",
            "        Layer (type)               Output Shape         Param #\n",
            "================================================================\n",
            "            Conv2d-1           [-1, 96, 55, 55]          34,944\n",
            "              ReLU-2           [-1, 96, 55, 55]               0\n",
            "         MaxPool2d-3           [-1, 96, 27, 27]               0\n",
            "            Conv2d-4          [-1, 256, 27, 27]         614,656\n",
            "              ReLU-5          [-1, 256, 27, 27]               0\n",
            "         MaxPool2d-6          [-1, 256, 13, 13]               0\n",
            "            Conv2d-7          [-1, 384, 13, 13]         885,120\n",
            "              ReLU-8          [-1, 384, 13, 13]               0\n",
            "            Conv2d-9          [-1, 384, 13, 13]       1,327,488\n",
            "             ReLU-10          [-1, 384, 13, 13]               0\n",
            "           Conv2d-11          [-1, 256, 13, 13]         884,992\n",
            "             ReLU-12          [-1, 256, 13, 13]               0\n",
            "        MaxPool2d-13            [-1, 256, 6, 6]               0\n",
            "           Linear-14                 [-1, 4096]      37,752,832\n",
            "             ReLU-15                 [-1, 4096]               0\n",
            "           Linear-16                 [-1, 4096]      16,781,312\n",
            "             ReLU-17                 [-1, 4096]               0\n",
            "           Linear-18                 [-1, 1000]       4,097,000\n",
            "================================================================\n",
            "Total params: 62,378,344\n",
            "Trainable params: 62,378,344\n",
            "Non-trainable params: 0\n",
            "----------------------------------------------------------------\n",
            "Input size (MB): 0.59\n",
            "Forward/backward pass size (MB): 10.99\n",
            "Params size (MB): 237.95\n",
            "Estimated Total Size (MB): 249.53\n",
            "----------------------------------------------------------------\n"
          ]
        }
      ],
      "source": [
        "import torch\n",
        "import torchvision\n",
        "import torch.nn as nn\n",
        "import torch.nn.functional as F\n",
        "from torchsummary import summary\n",
        "\n",
        "\n",
        "class AlexNet(nn.Module):\n",
        "\n",
        "    def __init__(self, n_classes):\n",
        "        super(AlexNet, self).__init__()\n",
        "\n",
        "        ############## Add Layer ##############\n",
        "\n",
        "\n",
        "        #######################################\n",
        "\n",
        "    def forward(self, x):\n",
        "\n",
        "        ############## Add Layer ##############\n",
        "\n",
        "\n",
        "        #######################################\n",
        "\n",
        "        return ????\n",
        "\n",
        "\n",
        "# pytorch summary\n",
        "???? # summary code 추가"
      ]
    }
  ],
  "metadata": {
    "colab": {
      "provenance": [],
      "include_colab_link": true
    },
    "kernelspec": {
      "display_name": "Python 3 (ipykernel)",
      "language": "python",
      "name": "python3"
    },
    "language_info": {
      "codemirror_mode": {
        "name": "ipython",
        "version": 3
      },
      "file_extension": ".py",
      "mimetype": "text/x-python",
      "name": "python",
      "nbconvert_exporter": "python",
      "pygments_lexer": "ipython3",
      "version": "3.7.3"
    },
    "toc": {
      "base_numbering": 1,
      "nav_menu": {},
      "number_sections": true,
      "sideBar": true,
      "skip_h1_title": false,
      "title_cell": "Table of Contents",
      "title_sidebar": "Contents",
      "toc_cell": false,
      "toc_position": {},
      "toc_section_display": true,
      "toc_window_display": false
    }
  },
  "nbformat": 4,
  "nbformat_minor": 0
}