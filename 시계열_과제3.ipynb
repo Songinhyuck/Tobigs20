{
  "nbformat": 4,
  "nbformat_minor": 0,
  "metadata": {
    "colab": {
      "provenance": []
    },
    "kernelspec": {
      "name": "python3",
      "display_name": "Python 3"
    },
    "language_info": {
      "name": "python"
    }
  },
  "cells": [
    {
      "cell_type": "code",
      "execution_count": 76,
      "metadata": {
        "colab": {
          "base_uri": "https://localhost:8080/"
        },
        "id": "ZL6CeKemBpHH",
        "outputId": "957786fb-c633-42f1-a09e-9ec433c1df8b"
      },
      "outputs": [
        {
          "output_type": "stream",
          "name": "stderr",
          "text": [
            "<ipython-input-76-bea24b60a942>:12: FutureWarning: The pandas.datetime class is deprecated and will be removed from pandas in a future version. Import from datetime module instead.\n",
            "  from pandas import datetime\n"
          ]
        }
      ],
      "source": [
        "%matplotlib inline\n",
        "import pandas as pd\n",
        "import numpy as np\n",
        "import matplotlib.pyplot as plt\n",
        "import yfinance as yf\n",
        "# from pmdarima.arima import auto_arima\n",
        "# from statsmodels.graphics.tsaplots import plot_acf,plot_pacf\n",
        "# from statsmodels.tsa.seasonal import seasonal_decompose\n",
        "# from statsmodels.tsa.stattools import adfuller, kpss\n",
        "# import statsmodels.api as sm\n",
        "# from statsmodels.tsa.arima_model import ARIMA\n",
        "from pandas import datetime\n",
        "# from statsmodels.tsa.arima_model import ARIMAResults\n",
        "from keras.models import Sequential\n",
        "from keras.layers import GRU,LSTM,Dense,BatchNormalization\n",
        "import tensorflow as tf"
      ]
    },
    {
      "cell_type": "code",
      "source": [
        "samsung_df = yf.download('005930.KS',\n",
        "                      start='2020-01-01',\n",
        "                      end='2021-04-21',\n",
        "                      progress=False)\n",
        "\n",
        "samsung_df = samsung_df[[\"Close\"]]\n",
        "\n",
        "samsung_df = samsung_df.reset_index()\n",
        "\n",
        "samsung_df.columns = ['day', 'price']\n",
        "\n",
        "samsung_df['day'] = pd.to_datetime(samsung_df['day'])\n",
        "\n",
        "samsung_df.index = samsung_df['day']\n",
        "samsung_df.set_index('day', inplace=True)\n",
        "\n",
        "samsung_df.tail()"
      ],
      "metadata": {
        "colab": {
          "base_uri": "https://localhost:8080/",
          "height": 238
        },
        "id": "GcyNdT5FB1q3",
        "outputId": "0a98ff9e-55b8-4222-b1f1-7e1827f71bc0"
      },
      "execution_count": 111,
      "outputs": [
        {
          "output_type": "execute_result",
          "data": {
            "text/plain": [
              "              price\n",
              "day                \n",
              "2021-04-14  84000.0\n",
              "2021-04-15  84100.0\n",
              "2021-04-16  83900.0\n",
              "2021-04-19  83300.0\n",
              "2021-04-20  83900.0"
            ],
            "text/html": [
              "\n",
              "  <div id=\"df-1aba34e0-e9b2-4460-93f3-cf53a71fa4e6\" class=\"colab-df-container\">\n",
              "    <div>\n",
              "<style scoped>\n",
              "    .dataframe tbody tr th:only-of-type {\n",
              "        vertical-align: middle;\n",
              "    }\n",
              "\n",
              "    .dataframe tbody tr th {\n",
              "        vertical-align: top;\n",
              "    }\n",
              "\n",
              "    .dataframe thead th {\n",
              "        text-align: right;\n",
              "    }\n",
              "</style>\n",
              "<table border=\"1\" class=\"dataframe\">\n",
              "  <thead>\n",
              "    <tr style=\"text-align: right;\">\n",
              "      <th></th>\n",
              "      <th>price</th>\n",
              "    </tr>\n",
              "    <tr>\n",
              "      <th>day</th>\n",
              "      <th></th>\n",
              "    </tr>\n",
              "  </thead>\n",
              "  <tbody>\n",
              "    <tr>\n",
              "      <th>2021-04-14</th>\n",
              "      <td>84000.0</td>\n",
              "    </tr>\n",
              "    <tr>\n",
              "      <th>2021-04-15</th>\n",
              "      <td>84100.0</td>\n",
              "    </tr>\n",
              "    <tr>\n",
              "      <th>2021-04-16</th>\n",
              "      <td>83900.0</td>\n",
              "    </tr>\n",
              "    <tr>\n",
              "      <th>2021-04-19</th>\n",
              "      <td>83300.0</td>\n",
              "    </tr>\n",
              "    <tr>\n",
              "      <th>2021-04-20</th>\n",
              "      <td>83900.0</td>\n",
              "    </tr>\n",
              "  </tbody>\n",
              "</table>\n",
              "</div>\n",
              "    <div class=\"colab-df-buttons\">\n",
              "\n",
              "  <div class=\"colab-df-container\">\n",
              "    <button class=\"colab-df-convert\" onclick=\"convertToInteractive('df-1aba34e0-e9b2-4460-93f3-cf53a71fa4e6')\"\n",
              "            title=\"Convert this dataframe to an interactive table.\"\n",
              "            style=\"display:none;\">\n",
              "\n",
              "  <svg xmlns=\"http://www.w3.org/2000/svg\" height=\"24px\" viewBox=\"0 -960 960 960\">\n",
              "    <path d=\"M120-120v-720h720v720H120Zm60-500h600v-160H180v160Zm220 220h160v-160H400v160Zm0 220h160v-160H400v160ZM180-400h160v-160H180v160Zm440 0h160v-160H620v160ZM180-180h160v-160H180v160Zm440 0h160v-160H620v160Z\"/>\n",
              "  </svg>\n",
              "    </button>\n",
              "\n",
              "  <style>\n",
              "    .colab-df-container {\n",
              "      display:flex;\n",
              "      gap: 12px;\n",
              "    }\n",
              "\n",
              "    .colab-df-convert {\n",
              "      background-color: #E8F0FE;\n",
              "      border: none;\n",
              "      border-radius: 50%;\n",
              "      cursor: pointer;\n",
              "      display: none;\n",
              "      fill: #1967D2;\n",
              "      height: 32px;\n",
              "      padding: 0 0 0 0;\n",
              "      width: 32px;\n",
              "    }\n",
              "\n",
              "    .colab-df-convert:hover {\n",
              "      background-color: #E2EBFA;\n",
              "      box-shadow: 0px 1px 2px rgba(60, 64, 67, 0.3), 0px 1px 3px 1px rgba(60, 64, 67, 0.15);\n",
              "      fill: #174EA6;\n",
              "    }\n",
              "\n",
              "    .colab-df-buttons div {\n",
              "      margin-bottom: 4px;\n",
              "    }\n",
              "\n",
              "    [theme=dark] .colab-df-convert {\n",
              "      background-color: #3B4455;\n",
              "      fill: #D2E3FC;\n",
              "    }\n",
              "\n",
              "    [theme=dark] .colab-df-convert:hover {\n",
              "      background-color: #434B5C;\n",
              "      box-shadow: 0px 1px 3px 1px rgba(0, 0, 0, 0.15);\n",
              "      filter: drop-shadow(0px 1px 2px rgba(0, 0, 0, 0.3));\n",
              "      fill: #FFFFFF;\n",
              "    }\n",
              "  </style>\n",
              "\n",
              "    <script>\n",
              "      const buttonEl =\n",
              "        document.querySelector('#df-1aba34e0-e9b2-4460-93f3-cf53a71fa4e6 button.colab-df-convert');\n",
              "      buttonEl.style.display =\n",
              "        google.colab.kernel.accessAllowed ? 'block' : 'none';\n",
              "\n",
              "      async function convertToInteractive(key) {\n",
              "        const element = document.querySelector('#df-1aba34e0-e9b2-4460-93f3-cf53a71fa4e6');\n",
              "        const dataTable =\n",
              "          await google.colab.kernel.invokeFunction('convertToInteractive',\n",
              "                                                    [key], {});\n",
              "        if (!dataTable) return;\n",
              "\n",
              "        const docLinkHtml = 'Like what you see? Visit the ' +\n",
              "          '<a target=\"_blank\" href=https://colab.research.google.com/notebooks/data_table.ipynb>data table notebook</a>'\n",
              "          + ' to learn more about interactive tables.';\n",
              "        element.innerHTML = '';\n",
              "        dataTable['output_type'] = 'display_data';\n",
              "        await google.colab.output.renderOutput(dataTable, element);\n",
              "        const docLink = document.createElement('div');\n",
              "        docLink.innerHTML = docLinkHtml;\n",
              "        element.appendChild(docLink);\n",
              "      }\n",
              "    </script>\n",
              "  </div>\n",
              "\n",
              "\n",
              "<div id=\"df-581861b4-4490-4674-910e-11a9e5ecccd6\">\n",
              "  <button class=\"colab-df-quickchart\" onclick=\"quickchart('df-581861b4-4490-4674-910e-11a9e5ecccd6')\"\n",
              "            title=\"Suggest charts.\"\n",
              "            style=\"display:none;\">\n",
              "\n",
              "<svg xmlns=\"http://www.w3.org/2000/svg\" height=\"24px\"viewBox=\"0 0 24 24\"\n",
              "     width=\"24px\">\n",
              "    <g>\n",
              "        <path d=\"M19 3H5c-1.1 0-2 .9-2 2v14c0 1.1.9 2 2 2h14c1.1 0 2-.9 2-2V5c0-1.1-.9-2-2-2zM9 17H7v-7h2v7zm4 0h-2V7h2v10zm4 0h-2v-4h2v4z\"/>\n",
              "    </g>\n",
              "</svg>\n",
              "  </button>\n",
              "\n",
              "<style>\n",
              "  .colab-df-quickchart {\n",
              "    background-color: #E8F0FE;\n",
              "    border: none;\n",
              "    border-radius: 50%;\n",
              "    cursor: pointer;\n",
              "    display: none;\n",
              "    fill: #1967D2;\n",
              "    height: 32px;\n",
              "    padding: 0 0 0 0;\n",
              "    width: 32px;\n",
              "  }\n",
              "\n",
              "  .colab-df-quickchart:hover {\n",
              "    background-color: #E2EBFA;\n",
              "    box-shadow: 0px 1px 2px rgba(60, 64, 67, 0.3), 0px 1px 3px 1px rgba(60, 64, 67, 0.15);\n",
              "    fill: #174EA6;\n",
              "  }\n",
              "\n",
              "  [theme=dark] .colab-df-quickchart {\n",
              "    background-color: #3B4455;\n",
              "    fill: #D2E3FC;\n",
              "  }\n",
              "\n",
              "  [theme=dark] .colab-df-quickchart:hover {\n",
              "    background-color: #434B5C;\n",
              "    box-shadow: 0px 1px 3px 1px rgba(0, 0, 0, 0.15);\n",
              "    filter: drop-shadow(0px 1px 2px rgba(0, 0, 0, 0.3));\n",
              "    fill: #FFFFFF;\n",
              "  }\n",
              "</style>\n",
              "\n",
              "  <script>\n",
              "    async function quickchart(key) {\n",
              "      const charts = await google.colab.kernel.invokeFunction(\n",
              "          'suggestCharts', [key], {});\n",
              "    }\n",
              "    (() => {\n",
              "      let quickchartButtonEl =\n",
              "        document.querySelector('#df-581861b4-4490-4674-910e-11a9e5ecccd6 button');\n",
              "      quickchartButtonEl.style.display =\n",
              "        google.colab.kernel.accessAllowed ? 'block' : 'none';\n",
              "    })();\n",
              "  </script>\n",
              "</div>\n",
              "    </div>\n",
              "  </div>\n"
            ]
          },
          "metadata": {},
          "execution_count": 111
        }
      ]
    },
    {
      "cell_type": "code",
      "source": [
        "from sklearn.preprocessing import MinMaxScaler\n",
        "scaler = MinMaxScaler()\n",
        "df = scaler.fit_transform(samsung_df)\n",
        "# df"
      ],
      "metadata": {
        "id": "INlkTL6Ckdzv"
      },
      "execution_count": 79,
      "outputs": []
    },
    {
      "cell_type": "code",
      "source": [
        "num_feature = 8\n",
        "window = list()\n",
        "temp = 0\n",
        "for i in range(len(df)-num_feature):\n",
        "  for j in range(num_feature+1):\n",
        "    window.append(df[temp+j])\n",
        "  temp = temp + 1"
      ],
      "metadata": {
        "id": "r63-h8ysB6iS"
      },
      "execution_count": 80,
      "outputs": []
    },
    {
      "cell_type": "code",
      "source": [
        "len(window)"
      ],
      "metadata": {
        "colab": {
          "base_uri": "https://localhost:8080/"
        },
        "id": "kImjm1jM4qVm",
        "outputId": "72a33b82-14a2-4646-a88e-704a1825de50"
      },
      "execution_count": 81,
      "outputs": [
        {
          "output_type": "execute_result",
          "data": {
            "text/plain": [
              "2826"
            ]
          },
          "metadata": {},
          "execution_count": 81
        }
      ]
    },
    {
      "cell_type": "code",
      "source": [
        "X_test = window[-8:]\n",
        "X_test = np.array(X_test).reshape(1,1,num_feature)\n",
        "# X_test\n"
      ],
      "metadata": {
        "id": "T_x6vPIJ5gRl"
      },
      "execution_count": 82,
      "outputs": []
    },
    {
      "cell_type": "code",
      "source": [
        "window = np.array(window).reshape(df.shape[0]-num_feature,num_feature+1)\n",
        "# window"
      ],
      "metadata": {
        "id": "1o4_8pNQ4YrH"
      },
      "execution_count": 83,
      "outputs": []
    },
    {
      "cell_type": "code",
      "source": [
        "df2 = pd.DataFrame(window)\n",
        "# print(.shape)\n",
        "trainx = df2.iloc[:,:-1].copy().to_numpy().reshape(len(window),1,num_feature)\n",
        "trainy = df2.iloc[:,-1].copy().to_numpy().reshape(len(window),1,1)\n",
        "\n"
      ],
      "metadata": {
        "id": "yeb1opSc5Ksk"
      },
      "execution_count": 84,
      "outputs": []
    },
    {
      "cell_type": "code",
      "source": [
        "from tensorflow.python.ops.math_ops import TruncateDiv\n",
        "def rnn_model(trainx,trainy,X_test):\n",
        "  model = Sequential()\n",
        "  model.add(GRU(32, dropout = 0.1, kernel_regularizer = tf.keras.regularizers.l2(0.02),\n",
        "                recurrent_dropout=0.2, return_sequences = True,\n",
        "                kernel_initializer='glorot_uniform',\n",
        "                input_shape = (1,8), activation = 'tanh'))\n",
        "  # model.add(BatchNormalization())\n",
        "  model.add(GRU(16, dropout = 0.1, kernel_regularizer = tf.keras.regularizers.l2(0.02),\n",
        "                recurrent_dropout=0.2, return_sequences = False,\n",
        "                kernel_initializer='glorot_uniform',\n",
        "                input_shape = (1,8), activation = 'tanh'))\n",
        "  # model.add(BatchNormalization())\n",
        "  # batch normalization이 필수..?\n",
        "  # rnn에선 gradient clipping strategy\n",
        "  # model.add(BatchNormalization())\n",
        "  model.add(Dense(1))\n",
        "\n",
        "  optimizer = tf.keras.optimizers.Adam(clipvalue=1.0)\n",
        "  model.compile(optimizer = optimizer, loss = 'mae')\n",
        "\n",
        "  history = model.fit(trainx,trainy,epochs = 50, batch_size = 30,\n",
        "            shuffle = False, verbose = 0, validation_split = 0.2)\n",
        "  predictions = model.predict(X_test)\n",
        "\n",
        "  return history, predictions"
      ],
      "metadata": {
        "id": "eIDpOuwa70_0"
      },
      "execution_count": 126,
      "outputs": []
    },
    {
      "cell_type": "code",
      "source": [
        "history, predictions = rnn_model(trainx,trainy,X_test)\n"
      ],
      "metadata": {
        "colab": {
          "base_uri": "https://localhost:8080/"
        },
        "id": "tA9PoIqi9v5i",
        "outputId": "c8e72108-d415-486c-dd7e-38f9f5c88f6c"
      },
      "execution_count": 127,
      "outputs": [
        {
          "output_type": "stream",
          "name": "stdout",
          "text": [
            "1/1 [==============================] - 2s 2s/step\n"
          ]
        }
      ]
    },
    {
      "cell_type": "code",
      "source": [
        "plt.plot(history.history['loss'], label = 'Training Loss')\n",
        "plt.plot(history.history['val_loss'], label = 'Validation Loss')\n",
        "plt.legend()\n",
        "plt.show()"
      ],
      "metadata": {
        "colab": {
          "base_uri": "https://localhost:8080/",
          "height": 430
        },
        "id": "QFLzDUrw_xZJ",
        "outputId": "b6648576-4ebd-4a0f-8981-3a31f02f733b"
      },
      "execution_count": 128,
      "outputs": [
        {
          "output_type": "display_data",
          "data": {
            "text/plain": [
              "<Figure size 640x480 with 1 Axes>"
            ],
            "image/png": "[encoded data removed]"
          },
          "metadata": {}
        }
      ]
    },
    {
      "cell_type": "code",
      "source": [
        "next_price = scaler.inverse_transform(predictions.reshape(-1,1))\n",
        "next_price[0,0]"
      ],
      "metadata": {
        "colab": {
          "base_uri": "https://localhost:8080/"
        },
        "id": "UWIKcMVKAArl",
        "outputId": "16dcd54a-f735-48b0-ceec-fd8b69a24083"
      },
      "execution_count": 129,
      "outputs": [
        {
          "output_type": "execute_result",
          "data": {
            "text/plain": [
              "83267.32"
            ]
          },
          "metadata": {},
          "execution_count": 129
        }
      ]
    }
  ]
}